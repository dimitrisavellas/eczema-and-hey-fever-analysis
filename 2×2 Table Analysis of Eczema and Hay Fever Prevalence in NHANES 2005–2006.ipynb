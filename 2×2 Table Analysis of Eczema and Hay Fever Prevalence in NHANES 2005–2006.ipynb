{
 "cells": [
  {
   "cell_type": "code",
   "execution_count": 3,
   "id": "70283e15",
   "metadata": {},
   "outputs": [],
   "source": [
    "import numpy as np\n",
    "import pandas as pd\n",
    "import matplotlib.pyplot as plt \n",
    "import seaborn as sns\n"
   ]
  },
  {
   "cell_type": "code",
   "execution_count": 4,
   "id": "2d1fa201",
   "metadata": {},
   "outputs": [],
   "source": [
    "import pyreadstat"
   ]
  },
  {
   "cell_type": "code",
   "execution_count": 5,
   "id": "84e6cf25",
   "metadata": {},
   "outputs": [],
   "source": [
    "file_path = 'C:\\\\Users\\\\dimit\\\\OneDrive\\\\Έγγραφα\\\\AGQ_D.xpt'"
   ]
  },
  {
   "cell_type": "code",
   "execution_count": 6,
   "id": "440f8a01",
   "metadata": {},
   "outputs": [],
   "source": [
    "df, meta = pyreadstat.read_xport(file_path)"
   ]
  },
  {
   "cell_type": "code",
   "execution_count": 7,
   "id": "7583e09c",
   "metadata": {},
   "outputs": [
    {
     "data": {
      "text/html": [
       "<div>\n",
       "<style scoped>\n",
       "    .dataframe tbody tr th:only-of-type {\n",
       "        vertical-align: middle;\n",
       "    }\n",
       "\n",
       "    .dataframe tbody tr th {\n",
       "        vertical-align: top;\n",
       "    }\n",
       "\n",
       "    .dataframe thead th {\n",
       "        text-align: right;\n",
       "    }\n",
       "</style>\n",
       "<table border=\"1\" class=\"dataframe\">\n",
       "  <thead>\n",
       "    <tr style=\"text-align: right;\">\n",
       "      <th></th>\n",
       "      <th>SEQN</th>\n",
       "      <th>AGQ010</th>\n",
       "      <th>AGD020</th>\n",
       "      <th>AGQ030</th>\n",
       "      <th>AGQ040</th>\n",
       "      <th>AGD050</th>\n",
       "      <th>AGQ060</th>\n",
       "      <th>AGQ070</th>\n",
       "      <th>AGQ080A</th>\n",
       "      <th>AGQ080B</th>\n",
       "      <th>...</th>\n",
       "      <th>AGQ110B</th>\n",
       "      <th>AGQ110C</th>\n",
       "      <th>AGQ110D</th>\n",
       "      <th>AGQ120</th>\n",
       "      <th>AGQ130</th>\n",
       "      <th>AGQ140</th>\n",
       "      <th>AGQ150</th>\n",
       "      <th>AGQ160</th>\n",
       "      <th>AGD170</th>\n",
       "      <th>AGQ180</th>\n",
       "    </tr>\n",
       "  </thead>\n",
       "  <tbody>\n",
       "    <tr>\n",
       "      <th>0</th>\n",
       "      <td>31128.0</td>\n",
       "      <td>2.0</td>\n",
       "      <td>NaN</td>\n",
       "      <td>NaN</td>\n",
       "      <td>2.0</td>\n",
       "      <td>NaN</td>\n",
       "      <td>NaN</td>\n",
       "      <td>2.0</td>\n",
       "      <td>NaN</td>\n",
       "      <td>NaN</td>\n",
       "      <td>...</td>\n",
       "      <td>NaN</td>\n",
       "      <td>NaN</td>\n",
       "      <td>NaN</td>\n",
       "      <td>2.0</td>\n",
       "      <td>2.0</td>\n",
       "      <td>NaN</td>\n",
       "      <td>NaN</td>\n",
       "      <td>NaN</td>\n",
       "      <td>NaN</td>\n",
       "      <td>2.0</td>\n",
       "    </tr>\n",
       "    <tr>\n",
       "      <th>1</th>\n",
       "      <td>31129.0</td>\n",
       "      <td>2.0</td>\n",
       "      <td>NaN</td>\n",
       "      <td>NaN</td>\n",
       "      <td>1.0</td>\n",
       "      <td>5.0</td>\n",
       "      <td>1.0</td>\n",
       "      <td>2.0</td>\n",
       "      <td>NaN</td>\n",
       "      <td>NaN</td>\n",
       "      <td>...</td>\n",
       "      <td>NaN</td>\n",
       "      <td>NaN</td>\n",
       "      <td>NaN</td>\n",
       "      <td>2.0</td>\n",
       "      <td>2.0</td>\n",
       "      <td>NaN</td>\n",
       "      <td>NaN</td>\n",
       "      <td>NaN</td>\n",
       "      <td>NaN</td>\n",
       "      <td>2.0</td>\n",
       "    </tr>\n",
       "    <tr>\n",
       "      <th>2</th>\n",
       "      <td>31130.0</td>\n",
       "      <td>2.0</td>\n",
       "      <td>NaN</td>\n",
       "      <td>NaN</td>\n",
       "      <td>1.0</td>\n",
       "      <td>50.0</td>\n",
       "      <td>1.0</td>\n",
       "      <td>2.0</td>\n",
       "      <td>NaN</td>\n",
       "      <td>NaN</td>\n",
       "      <td>...</td>\n",
       "      <td>NaN</td>\n",
       "      <td>NaN</td>\n",
       "      <td>NaN</td>\n",
       "      <td>2.0</td>\n",
       "      <td>2.0</td>\n",
       "      <td>NaN</td>\n",
       "      <td>NaN</td>\n",
       "      <td>NaN</td>\n",
       "      <td>NaN</td>\n",
       "      <td>2.0</td>\n",
       "    </tr>\n",
       "    <tr>\n",
       "      <th>3</th>\n",
       "      <td>31131.0</td>\n",
       "      <td>2.0</td>\n",
       "      <td>NaN</td>\n",
       "      <td>NaN</td>\n",
       "      <td>2.0</td>\n",
       "      <td>NaN</td>\n",
       "      <td>NaN</td>\n",
       "      <td>2.0</td>\n",
       "      <td>NaN</td>\n",
       "      <td>NaN</td>\n",
       "      <td>...</td>\n",
       "      <td>NaN</td>\n",
       "      <td>NaN</td>\n",
       "      <td>NaN</td>\n",
       "      <td>2.0</td>\n",
       "      <td>2.0</td>\n",
       "      <td>NaN</td>\n",
       "      <td>NaN</td>\n",
       "      <td>NaN</td>\n",
       "      <td>NaN</td>\n",
       "      <td>2.0</td>\n",
       "    </tr>\n",
       "    <tr>\n",
       "      <th>4</th>\n",
       "      <td>31132.0</td>\n",
       "      <td>2.0</td>\n",
       "      <td>NaN</td>\n",
       "      <td>NaN</td>\n",
       "      <td>2.0</td>\n",
       "      <td>NaN</td>\n",
       "      <td>NaN</td>\n",
       "      <td>2.0</td>\n",
       "      <td>NaN</td>\n",
       "      <td>NaN</td>\n",
       "      <td>...</td>\n",
       "      <td>NaN</td>\n",
       "      <td>3.0</td>\n",
       "      <td>NaN</td>\n",
       "      <td>1.0</td>\n",
       "      <td>2.0</td>\n",
       "      <td>NaN</td>\n",
       "      <td>NaN</td>\n",
       "      <td>NaN</td>\n",
       "      <td>NaN</td>\n",
       "      <td>2.0</td>\n",
       "    </tr>\n",
       "  </tbody>\n",
       "</table>\n",
       "<p>5 rows × 24 columns</p>\n",
       "</div>"
      ],
      "text/plain": [
       "      SEQN  AGQ010  AGD020  AGQ030  AGQ040  AGD050  AGQ060  AGQ070  AGQ080A  \\\n",
       "0  31128.0     2.0     NaN     NaN     2.0     NaN     NaN     2.0      NaN   \n",
       "1  31129.0     2.0     NaN     NaN     1.0     5.0     1.0     2.0      NaN   \n",
       "2  31130.0     2.0     NaN     NaN     1.0    50.0     1.0     2.0      NaN   \n",
       "3  31131.0     2.0     NaN     NaN     2.0     NaN     NaN     2.0      NaN   \n",
       "4  31132.0     2.0     NaN     NaN     2.0     NaN     NaN     2.0      NaN   \n",
       "\n",
       "   AGQ080B  ...  AGQ110B  AGQ110C  AGQ110D  AGQ120  AGQ130  AGQ140  AGQ150  \\\n",
       "0      NaN  ...      NaN      NaN      NaN     2.0     2.0     NaN     NaN   \n",
       "1      NaN  ...      NaN      NaN      NaN     2.0     2.0     NaN     NaN   \n",
       "2      NaN  ...      NaN      NaN      NaN     2.0     2.0     NaN     NaN   \n",
       "3      NaN  ...      NaN      NaN      NaN     2.0     2.0     NaN     NaN   \n",
       "4      NaN  ...      NaN      3.0      NaN     1.0     2.0     NaN     NaN   \n",
       "\n",
       "   AGQ160  AGD170  AGQ180  \n",
       "0     NaN     NaN     2.0  \n",
       "1     NaN     NaN     2.0  \n",
       "2     NaN     NaN     2.0  \n",
       "3     NaN     NaN     2.0  \n",
       "4     NaN     NaN     2.0  \n",
       "\n",
       "[5 rows x 24 columns]"
      ]
     },
     "execution_count": 7,
     "metadata": {},
     "output_type": "execute_result"
    }
   ],
   "source": [
    "df.head()"
   ]
  },
  {
   "cell_type": "code",
   "execution_count": 8,
   "id": "14bace95",
   "metadata": {},
   "outputs": [],
   "source": [
    "df = df[['AGQ010', 'AGQ030', 'AGQ180']].copy()"
   ]
  },
  {
   "cell_type": "code",
   "execution_count": 9,
   "id": "b12a7c60",
   "metadata": {},
   "outputs": [],
   "source": [
    "df.columns = [\n",
    "    'hay_fever_ever',       \n",
    "    'hay_fever_12months',   \n",
    "    'eczema_ever'           \n",
    "]"
   ]
  },
  {
   "cell_type": "code",
   "execution_count": 10,
   "id": "340ea499",
   "metadata": {},
   "outputs": [
    {
     "data": {
      "text/html": [
       "<div>\n",
       "<style scoped>\n",
       "    .dataframe tbody tr th:only-of-type {\n",
       "        vertical-align: middle;\n",
       "    }\n",
       "\n",
       "    .dataframe tbody tr th {\n",
       "        vertical-align: top;\n",
       "    }\n",
       "\n",
       "    .dataframe thead th {\n",
       "        text-align: right;\n",
       "    }\n",
       "</style>\n",
       "<table border=\"1\" class=\"dataframe\">\n",
       "  <thead>\n",
       "    <tr style=\"text-align: right;\">\n",
       "      <th></th>\n",
       "      <th>hay_fever_ever</th>\n",
       "      <th>hay_fever_12months</th>\n",
       "      <th>eczema_ever</th>\n",
       "    </tr>\n",
       "  </thead>\n",
       "  <tbody>\n",
       "    <tr>\n",
       "      <th>0</th>\n",
       "      <td>2.0</td>\n",
       "      <td>NaN</td>\n",
       "      <td>2.0</td>\n",
       "    </tr>\n",
       "    <tr>\n",
       "      <th>1</th>\n",
       "      <td>2.0</td>\n",
       "      <td>NaN</td>\n",
       "      <td>2.0</td>\n",
       "    </tr>\n",
       "    <tr>\n",
       "      <th>2</th>\n",
       "      <td>2.0</td>\n",
       "      <td>NaN</td>\n",
       "      <td>2.0</td>\n",
       "    </tr>\n",
       "    <tr>\n",
       "      <th>3</th>\n",
       "      <td>2.0</td>\n",
       "      <td>NaN</td>\n",
       "      <td>2.0</td>\n",
       "    </tr>\n",
       "    <tr>\n",
       "      <th>4</th>\n",
       "      <td>2.0</td>\n",
       "      <td>NaN</td>\n",
       "      <td>2.0</td>\n",
       "    </tr>\n",
       "  </tbody>\n",
       "</table>\n",
       "</div>"
      ],
      "text/plain": [
       "   hay_fever_ever  hay_fever_12months  eczema_ever\n",
       "0             2.0                 NaN          2.0\n",
       "1             2.0                 NaN          2.0\n",
       "2             2.0                 NaN          2.0\n",
       "3             2.0                 NaN          2.0\n",
       "4             2.0                 NaN          2.0"
      ]
     },
     "execution_count": 10,
     "metadata": {},
     "output_type": "execute_result"
    }
   ],
   "source": [
    "df.head()"
   ]
  },
  {
   "cell_type": "code",
   "execution_count": 11,
   "id": "204ce3f9",
   "metadata": {},
   "outputs": [],
   "source": [
    "valid_values = [1, 2]\n",
    "df = df[df['hay_fever_ever'].isin(valid_values) & df['eczema_ever'].isin(valid_values)]\n",
    "\n",
    "# Convert to binary: 1 for Yes, 0 for No\n",
    "df['hay_fever_ever'] = df['hay_fever_ever'].replace({1: 1, 2: 0})\n",
    "df['eczema_ever'] = df['eczema_ever'].replace({1: 1, 2: 0})\n",
    "\n",
    "# Optional: drop hay_fever_12months if you're not using it now\n",
    "df.drop(columns=['hay_fever_12months'], inplace=True)"
   ]
  },
  {
   "cell_type": "code",
   "execution_count": 12,
   "id": "5c4fdb71",
   "metadata": {},
   "outputs": [
    {
     "data": {
      "text/html": [
       "<div>\n",
       "<style scoped>\n",
       "    .dataframe tbody tr th:only-of-type {\n",
       "        vertical-align: middle;\n",
       "    }\n",
       "\n",
       "    .dataframe tbody tr th {\n",
       "        vertical-align: top;\n",
       "    }\n",
       "\n",
       "    .dataframe thead th {\n",
       "        text-align: right;\n",
       "    }\n",
       "</style>\n",
       "<table border=\"1\" class=\"dataframe\">\n",
       "  <thead>\n",
       "    <tr style=\"text-align: right;\">\n",
       "      <th></th>\n",
       "      <th>hay_fever_ever</th>\n",
       "      <th>eczema_ever</th>\n",
       "    </tr>\n",
       "  </thead>\n",
       "  <tbody>\n",
       "    <tr>\n",
       "      <th>0</th>\n",
       "      <td>0.0</td>\n",
       "      <td>0.0</td>\n",
       "    </tr>\n",
       "    <tr>\n",
       "      <th>1</th>\n",
       "      <td>0.0</td>\n",
       "      <td>0.0</td>\n",
       "    </tr>\n",
       "    <tr>\n",
       "      <th>2</th>\n",
       "      <td>0.0</td>\n",
       "      <td>0.0</td>\n",
       "    </tr>\n",
       "    <tr>\n",
       "      <th>3</th>\n",
       "      <td>0.0</td>\n",
       "      <td>0.0</td>\n",
       "    </tr>\n",
       "    <tr>\n",
       "      <th>4</th>\n",
       "      <td>0.0</td>\n",
       "      <td>0.0</td>\n",
       "    </tr>\n",
       "  </tbody>\n",
       "</table>\n",
       "</div>"
      ],
      "text/plain": [
       "   hay_fever_ever  eczema_ever\n",
       "0             0.0          0.0\n",
       "1             0.0          0.0\n",
       "2             0.0          0.0\n",
       "3             0.0          0.0\n",
       "4             0.0          0.0"
      ]
     },
     "execution_count": 12,
     "metadata": {},
     "output_type": "execute_result"
    }
   ],
   "source": [
    "df.head()"
   ]
  },
  {
   "cell_type": "code",
   "execution_count": 13,
   "id": "26358968",
   "metadata": {},
   "outputs": [],
   "source": [
    "table = pd.crosstab(df['eczema_ever'], df['hay_fever_ever'],\n",
    "                    rownames=['Eczema'], colnames=['Hay Fever'])\n"
   ]
  },
  {
   "cell_type": "code",
   "execution_count": 14,
   "id": "f9181d46",
   "metadata": {},
   "outputs": [
    {
     "data": {
      "text/html": [
       "<div>\n",
       "<style scoped>\n",
       "    .dataframe tbody tr th:only-of-type {\n",
       "        vertical-align: middle;\n",
       "    }\n",
       "\n",
       "    .dataframe tbody tr th {\n",
       "        vertical-align: top;\n",
       "    }\n",
       "\n",
       "    .dataframe thead th {\n",
       "        text-align: right;\n",
       "    }\n",
       "</style>\n",
       "<table border=\"1\" class=\"dataframe\">\n",
       "  <thead>\n",
       "    <tr style=\"text-align: right;\">\n",
       "      <th>Hay Fever</th>\n",
       "      <th>0.0</th>\n",
       "      <th>1.0</th>\n",
       "    </tr>\n",
       "    <tr>\n",
       "      <th>Eczema</th>\n",
       "      <th></th>\n",
       "      <th></th>\n",
       "    </tr>\n",
       "  </thead>\n",
       "  <tbody>\n",
       "    <tr>\n",
       "      <th>0.0</th>\n",
       "      <td>8352</td>\n",
       "      <td>538</td>\n",
       "    </tr>\n",
       "    <tr>\n",
       "      <th>1.0</th>\n",
       "      <td>792</td>\n",
       "      <td>104</td>\n",
       "    </tr>\n",
       "  </tbody>\n",
       "</table>\n",
       "</div>"
      ],
      "text/plain": [
       "Hay Fever   0.0  1.0\n",
       "Eczema              \n",
       "0.0        8352  538\n",
       "1.0         792  104"
      ]
     },
     "execution_count": 14,
     "metadata": {},
     "output_type": "execute_result"
    }
   ],
   "source": [
    "table"
   ]
  },
  {
   "cell_type": "code",
   "execution_count": 15,
   "id": "72b5848c",
   "metadata": {},
   "outputs": [],
   "source": [
    "a = table.loc[1, 1]  # Eczema = 1, Hay Fever = 1\n",
    "b = table.loc[1, 0]  # Eczema = 1, Hay Fever = 0\n",
    "c = table.loc[0, 1]  # Eczema = 0, Hay Fever = 1\n",
    "d = table.loc[0, 0]  # Eczema = 0, Hay Fever = 0"
   ]
  },
  {
   "cell_type": "code",
   "execution_count": 16,
   "id": "c2cb8ca0",
   "metadata": {},
   "outputs": [
    {
     "name": "stdout",
     "output_type": "stream",
     "text": [
      "Risk in eczema group: 0.116\n",
      "Risk in non-eczema group: 0.061\n",
      "Risk Difference (RD): 0.056\n",
      "Relative Risk (RR): 1.918\n",
      "Odds Ratio (OR): 2.039\n"
     ]
    }
   ],
   "source": [
    "# Convert to floats for division\n",
    "a, b, c, d = float(a), float(b), float(c), float(d)\n",
    "\n",
    "# Risk in Eczema group\n",
    "risk_eczema = a / (a + b)\n",
    "\n",
    "# Risk in non-Eczema group\n",
    "risk_no_eczema = c / (c + d)\n",
    "\n",
    "# Risk Difference\n",
    "rd = risk_eczema - risk_no_eczema\n",
    "\n",
    "# Relative Risk\n",
    "rr = risk_eczema / risk_no_eczema\n",
    "\n",
    "# Odds Ratio\n",
    "or_ = (a * d) / (b * c)\n",
    "\n",
    "# Display results\n",
    "print(f\"Risk in eczema group: {risk_eczema:.3f}\")\n",
    "print(f\"Risk in non-eczema group: {risk_no_eczema:.3f}\")\n",
    "print(f\"Risk Difference (RD): {rd:.3f}\")\n",
    "print(f\"Relative Risk (RR): {rr:.3f}\")\n",
    "print(f\"Odds Ratio (OR): {or_:.3f}\")\n"
   ]
  },
  {
   "cell_type": "code",
   "execution_count": 17,
   "id": "e42da804",
   "metadata": {},
   "outputs": [],
   "source": [
    "\n",
    "#Metric\tValue\tInterpretation\n",
    "#Risk in eczema group\t0.116\t11.6% of people with eczema have hay fever\n",
    "#Risk in non-eczema group\t0.061\t6.1% of people without eczema have hay fever\n",
    "#Risk Difference (RD)\t0.056\t5.6 percentage points higher risk of hay fever in people with eczema\n",
    "#Relative Risk (RR)\t1.918\tPeople with eczema are about 1.92 times more likely to have hay fever\n",
    "#Odds Ratio (OR)\t2.039\tThe odds of hay fever are 2.04 times higher in the eczema group"
   ]
  },
  {
   "cell_type": "code",
   "execution_count": 18,
   "id": "dcc04256",
   "metadata": {},
   "outputs": [],
   "source": [
    "groups = ['No Eczema', 'Eczema']\n",
    "risks = [0.061, 0.116]"
   ]
  },
  {
   "cell_type": "code",
   "execution_count": 19,
   "id": "08403d57",
   "metadata": {},
   "outputs": [
    {
     "data": {
      "image/png": "[encoded data removed]",
      "text/plain": [
       "<Figure size 600x400 with 1 Axes>"
      ]
     },
     "metadata": {},
     "output_type": "display_data"
    }
   ],
   "source": [
    "# Plot\n",
    "plt.figure(figsize=(6, 4))\n",
    "plt.bar(groups, risks)\n",
    "plt.ylabel(\"Proportion with Hay Fever\")\n",
    "plt.title(\"Prevalence of Hay Fever by Eczema Status\")\n",
    "plt.ylim(0, 0.15)\n",
    "plt.grid(axis='y', linestyle='--', alpha=0.7)"
   ]
  },
  {
   "cell_type": "code",
   "execution_count": null,
   "id": "1b4630c3",
   "metadata": {},
   "outputs": [
    {
     "data": {
      "text/plain": [
       "Text(50.72222222222221, 0.5, 'Eczema')"
      ]
     },
     "execution_count": 20,
     "metadata": {},
     "output_type": "execute_result"
    },
    {
     "data": {
      "image/png": "[encoded data removed]",
      "text/plain": [
       "<Figure size 640x480 with 1 Axes>"
      ]
     },
     "metadata": {},
     "output_type": "display_data"
    }
   ],
   "source": [
    "table = pd.crosstab(df['eczema_ever'], df['hay_fever_ever'])\n",
    "\n",
    "# Annotated heatmap\n",
    "sns.heatmap(table, annot=True, fmt=\"d\", cmap=\"Blues\", cbar=False,\n",
    "            xticklabels=[\"No Hay Fever\", \"Hay Fever\"],\n",
    "            yticklabels=[\"No Eczema\", \"Eczema\"])\n",
    "plt.title(\"2×2 Table: Eczema vs. Hay Fever\")\n",
    "plt.xlabel(\"Hay Fever\")\n",
    "plt.ylabel(\"Eczema\")"
   ]
  },
  {
   "cell_type": "code",
   "execution_count": 22,
   "id": "62f67891",
   "metadata": {},
   "outputs": [
    {
     "data": {
      "image/png": "[encoded data removed]",
      "text/plain": [
       "<Figure size 700x200 with 1 Axes>"
      ]
     },
     "metadata": {},
     "output_type": "display_data"
    }
   ],
   "source": [
    "or_value = 2.039          # Odds Ratio\n",
    "ci_lower = 1.80           # Lower bound of confidence interval\n",
    "ci_upper = 2.30           # Upper bound of confidence interval\n",
    "plt.figure(figsize=(7, 2))\n",
    "plt.errorbar(\n",
    "    x=or_value,\n",
    "    y=0,\n",
    "    xerr=[[or_value - ci_lower], [ci_upper - or_value]],\n",
    "    fmt='o',\n",
    "    color='blue',\n",
    "    capsize=5,\n",
    "    label=\"Odds Ratio\"\n",
    ")\n",
    "plt.axvline(x=1, color='red', linestyle='--', label='No Effect (OR = 1)')\n",
    "plt.xlim(0, 3.5)\n",
    "plt.yticks([])\n",
    "plt.xlabel(\"Odds Ratio\")\n",
    "plt.title(\"Odds Ratio of Hay Fever in Eczema vs Non-Eczema\")\n",
    "plt.legend()\n",
    "plt.grid(axis='x', linestyle='--', alpha=0.7)\n",
    "plt.tight_layout()"
   ]
  },
  {
   "cell_type": "code",
   "execution_count": null,
   "id": "deb01602",
   "metadata": {},
   "outputs": [],
   "source": [
    "#Conclusion: People with eczema have significantly higher odds of hay fever. The association is real and statistically significant."
   ]
  }
 ],
 "metadata": {
  "kernelspec": {
   "display_name": "Python 3",
   "language": "python",
   "name": "python3"
  },
  "language_info": {
   "codemirror_mode": {
    "name": "ipython",
    "version": 3
   },
   "file_extension": ".py",
   "mimetype": "text/x-python",
   "name": "python",
   "nbconvert_exporter": "python",
   "pygments_lexer": "ipython3",
   "version": "3.13.1"
  }
 },
 "nbformat": 4,
 "nbformat_minor": 5
}
